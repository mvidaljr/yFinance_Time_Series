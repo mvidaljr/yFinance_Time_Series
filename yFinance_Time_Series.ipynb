{
  "nbformat": 4,
  "nbformat_minor": 0,
  "metadata": {
    "colab": {
      "provenance": []
    },
    "kernelspec": {
      "name": "python3",
      "display_name": "Python 3"
    },
    "language_info": {
      "name": "python"
    }
  },
  "cells": [
    {
      "cell_type": "code",
      "source": [
        "# ! pip install yfinance"
      ],
      "metadata": {
        "id": "BpjslfcC_djs"
      },
      "execution_count": 163,
      "outputs": []
    },
    {
      "cell_type": "code",
      "execution_count": 164,
      "metadata": {
        "id": "1hMKE6EF-M2S"
      },
      "outputs": [],
      "source": [
        "import yfinance as yf\n",
        "import matplotlib.pyplot as plt\n",
        "import pandas as pd\n",
        "import numpy as np\n",
        "import math\n",
        "from sklearn.preprocessing import MinMaxScaler\n",
        "from keras.models import Sequential\n",
        "from keras.layers import Dense,LSTM\n",
        "from keras.layers import Dropout\n",
        "\n",
        "import plotly.express as px\n",
        "import plotly.graph_objects as go\n",
        "import tensorflow as tf"
      ]
    },
    {
      "cell_type": "code",
      "source": [
        "df = yf.download(\"BABA\", start = \"2015-01-01\", end = \"2023-03-01\")\n",
        "data = df.filter(['Close'])"
      ],
      "metadata": {
        "colab": {
          "base_uri": "https://localhost:8080/"
        },
        "id": "-W8yjPvh-2IJ",
        "outputId": "7b5c98a9-d550-4f7c-bdd6-bf1ac22d26e6"
      },
      "execution_count": 165,
      "outputs": [
        {
          "output_type": "stream",
          "name": "stdout",
          "text": [
            "\r[*********************100%***********************]  1 of 1 completed\n"
          ]
        }
      ]
    },
    {
      "cell_type": "code",
      "source": [
        "df"
      ],
      "metadata": {
        "colab": {
          "base_uri": "https://localhost:8080/",
          "height": 455
        },
        "id": "h_WGzNQp_JfD",
        "outputId": "7ca32685-978e-4a4f-ecdf-f87a7ded457c"
      },
      "execution_count": 166,
      "outputs": [
        {
          "output_type": "execute_result",
          "data": {
            "text/plain": [
              "                  Open        High         Low       Close   Adj Close  \\\n",
              "Date                                                                     \n",
              "2015-01-02  104.239998  104.720001  102.519997  103.599998  103.599998   \n",
              "2015-01-05  102.760002  103.019997   99.900002  101.000000  101.000000   \n",
              "2015-01-06  101.250000  103.849998  100.110001  103.320000  103.320000   \n",
              "2015-01-07  104.589996  104.739998  102.029999  102.129997  102.129997   \n",
              "2015-01-08  102.949997  105.339996  102.680000  105.029999  105.029999   \n",
              "...                ...         ...         ...         ...         ...   \n",
              "2023-02-22   95.574997   95.889999   93.555000   94.779999   94.779999   \n",
              "2023-02-23  100.099998  100.470001   92.129997   94.160004   94.160004   \n",
              "2023-02-24   90.070000   91.680000   88.029999   89.000000   89.000000   \n",
              "2023-02-27   90.849998   91.239998   88.894997   89.250000   89.250000   \n",
              "2023-02-28   88.459999   89.339996   87.269997   87.790001   87.790001   \n",
              "\n",
              "              Volume  \n",
              "Date                  \n",
              "2015-01-02  12303400  \n",
              "2015-01-05  18337000  \n",
              "2015-01-06  15720400  \n",
              "2015-01-07  11052200  \n",
              "2015-01-08  12942100  \n",
              "...              ...  \n",
              "2023-02-22  24484000  \n",
              "2023-02-23  40482900  \n",
              "2023-02-24  36174500  \n",
              "2023-02-27  25840000  \n",
              "2023-02-28  24597200  \n",
              "\n",
              "[2053 rows x 6 columns]"
            ],
            "text/html": [
              "\n",
              "  <div id=\"df-940c9bc0-c221-4fdd-8caa-2380cfbf8977\">\n",
              "    <div class=\"colab-df-container\">\n",
              "      <div>\n",
              "<style scoped>\n",
              "    .dataframe tbody tr th:only-of-type {\n",
              "        vertical-align: middle;\n",
              "    }\n",
              "\n",
              "    .dataframe tbody tr th {\n",
              "        vertical-align: top;\n",
              "    }\n",
              "\n",
              "    .dataframe thead th {\n",
              "        text-align: right;\n",
              "    }\n",
              "</style>\n",
              "<table border=\"1\" class=\"dataframe\">\n",
              "  <thead>\n",
              "    <tr style=\"text-align: right;\">\n",
              "      <th></th>\n",
              "      <th>Open</th>\n",
              "      <th>High</th>\n",
              "      <th>Low</th>\n",
              "      <th>Close</th>\n",
              "      <th>Adj Close</th>\n",
              "      <th>Volume</th>\n",
              "    </tr>\n",
              "    <tr>\n",
              "      <th>Date</th>\n",
              "      <th></th>\n",
              "      <th></th>\n",
              "      <th></th>\n",
              "      <th></th>\n",
              "      <th></th>\n",
              "      <th></th>\n",
              "    </tr>\n",
              "  </thead>\n",
              "  <tbody>\n",
              "    <tr>\n",
              "      <th>2015-01-02</th>\n",
              "      <td>104.239998</td>\n",
              "      <td>104.720001</td>\n",
              "      <td>102.519997</td>\n",
              "      <td>103.599998</td>\n",
              "      <td>103.599998</td>\n",
              "      <td>12303400</td>\n",
              "    </tr>\n",
              "    <tr>\n",
              "      <th>2015-01-05</th>\n",
              "      <td>102.760002</td>\n",
              "      <td>103.019997</td>\n",
              "      <td>99.900002</td>\n",
              "      <td>101.000000</td>\n",
              "      <td>101.000000</td>\n",
              "      <td>18337000</td>\n",
              "    </tr>\n",
              "    <tr>\n",
              "      <th>2015-01-06</th>\n",
              "      <td>101.250000</td>\n",
              "      <td>103.849998</td>\n",
              "      <td>100.110001</td>\n",
              "      <td>103.320000</td>\n",
              "      <td>103.320000</td>\n",
              "      <td>15720400</td>\n",
              "    </tr>\n",
              "    <tr>\n",
              "      <th>2015-01-07</th>\n",
              "      <td>104.589996</td>\n",
              "      <td>104.739998</td>\n",
              "      <td>102.029999</td>\n",
              "      <td>102.129997</td>\n",
              "      <td>102.129997</td>\n",
              "      <td>11052200</td>\n",
              "    </tr>\n",
              "    <tr>\n",
              "      <th>2015-01-08</th>\n",
              "      <td>102.949997</td>\n",
              "      <td>105.339996</td>\n",
              "      <td>102.680000</td>\n",
              "      <td>105.029999</td>\n",
              "      <td>105.029999</td>\n",
              "      <td>12942100</td>\n",
              "    </tr>\n",
              "    <tr>\n",
              "      <th>...</th>\n",
              "      <td>...</td>\n",
              "      <td>...</td>\n",
              "      <td>...</td>\n",
              "      <td>...</td>\n",
              "      <td>...</td>\n",
              "      <td>...</td>\n",
              "    </tr>\n",
              "    <tr>\n",
              "      <th>2023-02-22</th>\n",
              "      <td>95.574997</td>\n",
              "      <td>95.889999</td>\n",
              "      <td>93.555000</td>\n",
              "      <td>94.779999</td>\n",
              "      <td>94.779999</td>\n",
              "      <td>24484000</td>\n",
              "    </tr>\n",
              "    <tr>\n",
              "      <th>2023-02-23</th>\n",
              "      <td>100.099998</td>\n",
              "      <td>100.470001</td>\n",
              "      <td>92.129997</td>\n",
              "      <td>94.160004</td>\n",
              "      <td>94.160004</td>\n",
              "      <td>40482900</td>\n",
              "    </tr>\n",
              "    <tr>\n",
              "      <th>2023-02-24</th>\n",
              "      <td>90.070000</td>\n",
              "      <td>91.680000</td>\n",
              "      <td>88.029999</td>\n",
              "      <td>89.000000</td>\n",
              "      <td>89.000000</td>\n",
              "      <td>36174500</td>\n",
              "    </tr>\n",
              "    <tr>\n",
              "      <th>2023-02-27</th>\n",
              "      <td>90.849998</td>\n",
              "      <td>91.239998</td>\n",
              "      <td>88.894997</td>\n",
              "      <td>89.250000</td>\n",
              "      <td>89.250000</td>\n",
              "      <td>25840000</td>\n",
              "    </tr>\n",
              "    <tr>\n",
              "      <th>2023-02-28</th>\n",
              "      <td>88.459999</td>\n",
              "      <td>89.339996</td>\n",
              "      <td>87.269997</td>\n",
              "      <td>87.790001</td>\n",
              "      <td>87.790001</td>\n",
              "      <td>24597200</td>\n",
              "    </tr>\n",
              "  </tbody>\n",
              "</table>\n",
              "<p>2053 rows × 6 columns</p>\n",
              "</div>\n",
              "      <button class=\"colab-df-convert\" onclick=\"convertToInteractive('df-940c9bc0-c221-4fdd-8caa-2380cfbf8977')\"\n",
              "              title=\"Convert this dataframe to an interactive table.\"\n",
              "              style=\"display:none;\">\n",
              "        \n",
              "  <svg xmlns=\"http://www.w3.org/2000/svg\" height=\"24px\"viewBox=\"0 0 24 24\"\n",
              "       width=\"24px\">\n",
              "    <path d=\"M0 0h24v24H0V0z\" fill=\"none\"/>\n",
              "    <path d=\"M18.56 5.44l.94 2.06.94-2.06 2.06-.94-2.06-.94-.94-2.06-.94 2.06-2.06.94zm-11 1L8.5 8.5l.94-2.06 2.06-.94-2.06-.94L8.5 2.5l-.94 2.06-2.06.94zm10 10l.94 2.06.94-2.06 2.06-.94-2.06-.94-.94-2.06-.94 2.06-2.06.94z\"/><path d=\"M17.41 7.96l-1.37-1.37c-.4-.4-.92-.59-1.43-.59-.52 0-1.04.2-1.43.59L10.3 9.45l-7.72 7.72c-.78.78-.78 2.05 0 2.83L4 21.41c.39.39.9.59 1.41.59.51 0 1.02-.2 1.41-.59l7.78-7.78 2.81-2.81c.8-.78.8-2.07 0-2.86zM5.41 20L4 18.59l7.72-7.72 1.47 1.35L5.41 20z\"/>\n",
              "  </svg>\n",
              "      </button>\n",
              "      \n",
              "  <style>\n",
              "    .colab-df-container {\n",
              "      display:flex;\n",
              "      flex-wrap:wrap;\n",
              "      gap: 12px;\n",
              "    }\n",
              "\n",
              "    .colab-df-convert {\n",
              "      background-color: #E8F0FE;\n",
              "      border: none;\n",
              "      border-radius: 50%;\n",
              "      cursor: pointer;\n",
              "      display: none;\n",
              "      fill: #1967D2;\n",
              "      height: 32px;\n",
              "      padding: 0 0 0 0;\n",
              "      width: 32px;\n",
              "    }\n",
              "\n",
              "    .colab-df-convert:hover {\n",
              "      background-color: #E2EBFA;\n",
              "      box-shadow: 0px 1px 2px rgba(60, 64, 67, 0.3), 0px 1px 3px 1px rgba(60, 64, 67, 0.15);\n",
              "      fill: #174EA6;\n",
              "    }\n",
              "\n",
              "    [theme=dark] .colab-df-convert {\n",
              "      background-color: #3B4455;\n",
              "      fill: #D2E3FC;\n",
              "    }\n",
              "\n",
              "    [theme=dark] .colab-df-convert:hover {\n",
              "      background-color: #434B5C;\n",
              "      box-shadow: 0px 1px 3px 1px rgba(0, 0, 0, 0.15);\n",
              "      filter: drop-shadow(0px 1px 2px rgba(0, 0, 0, 0.3));\n",
              "      fill: #FFFFFF;\n",
              "    }\n",
              "  </style>\n",
              "\n",
              "      <script>\n",
              "        const buttonEl =\n",
              "          document.querySelector('#df-940c9bc0-c221-4fdd-8caa-2380cfbf8977 button.colab-df-convert');\n",
              "        buttonEl.style.display =\n",
              "          google.colab.kernel.accessAllowed ? 'block' : 'none';\n",
              "\n",
              "        async function convertToInteractive(key) {\n",
              "          const element = document.querySelector('#df-940c9bc0-c221-4fdd-8caa-2380cfbf8977');\n",
              "          const dataTable =\n",
              "            await google.colab.kernel.invokeFunction('convertToInteractive',\n",
              "                                                     [key], {});\n",
              "          if (!dataTable) return;\n",
              "\n",
              "          const docLinkHtml = 'Like what you see? Visit the ' +\n",
              "            '<a target=\"_blank\" href=https://colab.research.google.com/notebooks/data_table.ipynb>data table notebook</a>'\n",
              "            + ' to learn more about interactive tables.';\n",
              "          element.innerHTML = '';\n",
              "          dataTable['output_type'] = 'display_data';\n",
              "          await google.colab.output.renderOutput(dataTable, element);\n",
              "          const docLink = document.createElement('div');\n",
              "          docLink.innerHTML = docLinkHtml;\n",
              "          element.appendChild(docLink);\n",
              "        }\n",
              "      </script>\n",
              "    </div>\n",
              "  </div>\n",
              "  "
            ]
          },
          "metadata": {},
          "execution_count": 166
        }
      ]
    },
    {
      "cell_type": "code",
      "source": [
        "data"
      ],
      "metadata": {
        "colab": {
          "base_uri": "https://localhost:8080/",
          "height": 455
        },
        "id": "_S2qAl1Z__mJ",
        "outputId": "5136d881-f420-419e-85bf-666a5318213d"
      },
      "execution_count": 167,
      "outputs": [
        {
          "output_type": "execute_result",
          "data": {
            "text/plain": [
              "                 Close\n",
              "Date                  \n",
              "2015-01-02  103.599998\n",
              "2015-01-05  101.000000\n",
              "2015-01-06  103.320000\n",
              "2015-01-07  102.129997\n",
              "2015-01-08  105.029999\n",
              "...                ...\n",
              "2023-02-22   94.779999\n",
              "2023-02-23   94.160004\n",
              "2023-02-24   89.000000\n",
              "2023-02-27   89.250000\n",
              "2023-02-28   87.790001\n",
              "\n",
              "[2053 rows x 1 columns]"
            ],
            "text/html": [
              "\n",
              "  <div id=\"df-6c4f7c7c-1e20-45aa-90eb-86727e31c046\">\n",
              "    <div class=\"colab-df-container\">\n",
              "      <div>\n",
              "<style scoped>\n",
              "    .dataframe tbody tr th:only-of-type {\n",
              "        vertical-align: middle;\n",
              "    }\n",
              "\n",
              "    .dataframe tbody tr th {\n",
              "        vertical-align: top;\n",
              "    }\n",
              "\n",
              "    .dataframe thead th {\n",
              "        text-align: right;\n",
              "    }\n",
              "</style>\n",
              "<table border=\"1\" class=\"dataframe\">\n",
              "  <thead>\n",
              "    <tr style=\"text-align: right;\">\n",
              "      <th></th>\n",
              "      <th>Close</th>\n",
              "    </tr>\n",
              "    <tr>\n",
              "      <th>Date</th>\n",
              "      <th></th>\n",
              "    </tr>\n",
              "  </thead>\n",
              "  <tbody>\n",
              "    <tr>\n",
              "      <th>2015-01-02</th>\n",
              "      <td>103.599998</td>\n",
              "    </tr>\n",
              "    <tr>\n",
              "      <th>2015-01-05</th>\n",
              "      <td>101.000000</td>\n",
              "    </tr>\n",
              "    <tr>\n",
              "      <th>2015-01-06</th>\n",
              "      <td>103.320000</td>\n",
              "    </tr>\n",
              "    <tr>\n",
              "      <th>2015-01-07</th>\n",
              "      <td>102.129997</td>\n",
              "    </tr>\n",
              "    <tr>\n",
              "      <th>2015-01-08</th>\n",
              "      <td>105.029999</td>\n",
              "    </tr>\n",
              "    <tr>\n",
              "      <th>...</th>\n",
              "      <td>...</td>\n",
              "    </tr>\n",
              "    <tr>\n",
              "      <th>2023-02-22</th>\n",
              "      <td>94.779999</td>\n",
              "    </tr>\n",
              "    <tr>\n",
              "      <th>2023-02-23</th>\n",
              "      <td>94.160004</td>\n",
              "    </tr>\n",
              "    <tr>\n",
              "      <th>2023-02-24</th>\n",
              "      <td>89.000000</td>\n",
              "    </tr>\n",
              "    <tr>\n",
              "      <th>2023-02-27</th>\n",
              "      <td>89.250000</td>\n",
              "    </tr>\n",
              "    <tr>\n",
              "      <th>2023-02-28</th>\n",
              "      <td>87.790001</td>\n",
              "    </tr>\n",
              "  </tbody>\n",
              "</table>\n",
              "<p>2053 rows × 1 columns</p>\n",
              "</div>\n",
              "      <button class=\"colab-df-convert\" onclick=\"convertToInteractive('df-6c4f7c7c-1e20-45aa-90eb-86727e31c046')\"\n",
              "              title=\"Convert this dataframe to an interactive table.\"\n",
              "              style=\"display:none;\">\n",
              "        \n",
              "  <svg xmlns=\"http://www.w3.org/2000/svg\" height=\"24px\"viewBox=\"0 0 24 24\"\n",
              "       width=\"24px\">\n",
              "    <path d=\"M0 0h24v24H0V0z\" fill=\"none\"/>\n",
              "    <path d=\"M18.56 5.44l.94 2.06.94-2.06 2.06-.94-2.06-.94-.94-2.06-.94 2.06-2.06.94zm-11 1L8.5 8.5l.94-2.06 2.06-.94-2.06-.94L8.5 2.5l-.94 2.06-2.06.94zm10 10l.94 2.06.94-2.06 2.06-.94-2.06-.94-.94-2.06-.94 2.06-2.06.94z\"/><path d=\"M17.41 7.96l-1.37-1.37c-.4-.4-.92-.59-1.43-.59-.52 0-1.04.2-1.43.59L10.3 9.45l-7.72 7.72c-.78.78-.78 2.05 0 2.83L4 21.41c.39.39.9.59 1.41.59.51 0 1.02-.2 1.41-.59l7.78-7.78 2.81-2.81c.8-.78.8-2.07 0-2.86zM5.41 20L4 18.59l7.72-7.72 1.47 1.35L5.41 20z\"/>\n",
              "  </svg>\n",
              "      </button>\n",
              "      \n",
              "  <style>\n",
              "    .colab-df-container {\n",
              "      display:flex;\n",
              "      flex-wrap:wrap;\n",
              "      gap: 12px;\n",
              "    }\n",
              "\n",
              "    .colab-df-convert {\n",
              "      background-color: #E8F0FE;\n",
              "      border: none;\n",
              "      border-radius: 50%;\n",
              "      cursor: pointer;\n",
              "      display: none;\n",
              "      fill: #1967D2;\n",
              "      height: 32px;\n",
              "      padding: 0 0 0 0;\n",
              "      width: 32px;\n",
              "    }\n",
              "\n",
              "    .colab-df-convert:hover {\n",
              "      background-color: #E2EBFA;\n",
              "      box-shadow: 0px 1px 2px rgba(60, 64, 67, 0.3), 0px 1px 3px 1px rgba(60, 64, 67, 0.15);\n",
              "      fill: #174EA6;\n",
              "    }\n",
              "\n",
              "    [theme=dark] .colab-df-convert {\n",
              "      background-color: #3B4455;\n",
              "      fill: #D2E3FC;\n",
              "    }\n",
              "\n",
              "    [theme=dark] .colab-df-convert:hover {\n",
              "      background-color: #434B5C;\n",
              "      box-shadow: 0px 1px 3px 1px rgba(0, 0, 0, 0.15);\n",
              "      filter: drop-shadow(0px 1px 2px rgba(0, 0, 0, 0.3));\n",
              "      fill: #FFFFFF;\n",
              "    }\n",
              "  </style>\n",
              "\n",
              "      <script>\n",
              "        const buttonEl =\n",
              "          document.querySelector('#df-6c4f7c7c-1e20-45aa-90eb-86727e31c046 button.colab-df-convert');\n",
              "        buttonEl.style.display =\n",
              "          google.colab.kernel.accessAllowed ? 'block' : 'none';\n",
              "\n",
              "        async function convertToInteractive(key) {\n",
              "          const element = document.querySelector('#df-6c4f7c7c-1e20-45aa-90eb-86727e31c046');\n",
              "          const dataTable =\n",
              "            await google.colab.kernel.invokeFunction('convertToInteractive',\n",
              "                                                     [key], {});\n",
              "          if (!dataTable) return;\n",
              "\n",
              "          const docLinkHtml = 'Like what you see? Visit the ' +\n",
              "            '<a target=\"_blank\" href=https://colab.research.google.com/notebooks/data_table.ipynb>data table notebook</a>'\n",
              "            + ' to learn more about interactive tables.';\n",
              "          element.innerHTML = '';\n",
              "          dataTable['output_type'] = 'display_data';\n",
              "          await google.colab.output.renderOutput(dataTable, element);\n",
              "          const docLink = document.createElement('div');\n",
              "          docLink.innerHTML = docLinkHtml;\n",
              "          element.appendChild(docLink);\n",
              "        }\n",
              "      </script>\n",
              "    </div>\n",
              "  </div>\n",
              "  "
            ]
          },
          "metadata": {},
          "execution_count": 167
        }
      ]
    },
    {
      "cell_type": "code",
      "source": [
        "data.plot(figsize=(10,7))\n",
        "plt.xlabel('Close')\n",
        "plt.title('Alibaba Close Graphic');"
      ],
      "metadata": {
        "colab": {
          "base_uri": "https://localhost:8080/",
          "height": 432
        },
        "id": "IjeCEeqqAA2Q",
        "outputId": "cb6b0ab1-28ab-4967-eb94-854fd9241c18"
      },
      "execution_count": 168,
      "outputs": [
        {
          "output_type": "display_data",
          "data": {
            "text/plain": [
              "<Figure size 720x504 with 1 Axes>"
            ],
            "image/png": "[encoded data removed]"
          },
          "metadata": {
            "needs_background": "light"
          }
        }
      ]
    },
    {
      "cell_type": "code",
      "source": [
        "timesteps = data.index.to_numpy()\n",
        "prices = data[\"Close\"].to_numpy()\n",
        "\n",
        "timesteps[:10], prices[:10]"
      ],
      "metadata": {
        "colab": {
          "base_uri": "https://localhost:8080/"
        },
        "id": "2-MARGYwCFxP",
        "outputId": "2ed0a55c-4a47-40a0-a159-bffd592fdac5"
      },
      "execution_count": 169,
      "outputs": [
        {
          "output_type": "execute_result",
          "data": {
            "text/plain": [
              "(array(['2015-01-02T00:00:00.000000000', '2015-01-05T00:00:00.000000000',\n",
              "        '2015-01-06T00:00:00.000000000', '2015-01-07T00:00:00.000000000',\n",
              "        '2015-01-08T00:00:00.000000000', '2015-01-09T00:00:00.000000000',\n",
              "        '2015-01-12T00:00:00.000000000', '2015-01-13T00:00:00.000000000',\n",
              "        '2015-01-14T00:00:00.000000000', '2015-01-15T00:00:00.000000000'],\n",
              "       dtype='datetime64[ns]'),\n",
              " array([103.59999847, 101.        , 103.31999969, 102.12999725,\n",
              "        105.02999878, 103.01999664, 101.62000275, 100.76999664,\n",
              "         99.58000183,  96.30999756]))"
            ]
          },
          "metadata": {},
          "execution_count": 169
        }
      ]
    },
    {
      "cell_type": "code",
      "source": [
        "int(len(data)*0.8)"
      ],
      "metadata": {
        "colab": {
          "base_uri": "https://localhost:8080/"
        },
        "id": "2CVDt-vSGaJl",
        "outputId": "35571507-ec20-45d7-dab0-b16f9a8e78a5"
      },
      "execution_count": 170,
      "outputs": [
        {
          "output_type": "execute_result",
          "data": {
            "text/plain": [
              "1642"
            ]
          },
          "metadata": {},
          "execution_count": 170
        }
      ]
    },
    {
      "cell_type": "code",
      "source": [
        "X_train, y_train = timesteps[:1642], prices[:1642]\n",
        "X_test, y_test = timesteps[1642:], prices[1642:]"
      ],
      "metadata": {
        "id": "L1y2Pf50H2GZ"
      },
      "execution_count": 171,
      "outputs": []
    },
    {
      "cell_type": "code",
      "source": [
        "X_train.shape, y_train.shape"
      ],
      "metadata": {
        "colab": {
          "base_uri": "https://localhost:8080/"
        },
        "id": "4Id077Q1JMnS",
        "outputId": "ebaf7ec3-37bf-4f9f-c990-822bba46b5c1"
      },
      "execution_count": 172,
      "outputs": [
        {
          "output_type": "execute_result",
          "data": {
            "text/plain": [
              "((1642,), (1642,))"
            ]
          },
          "metadata": {},
          "execution_count": 172
        }
      ]
    },
    {
      "cell_type": "code",
      "source": [
        "X_test.shape, y_test.shape"
      ],
      "metadata": {
        "colab": {
          "base_uri": "https://localhost:8080/"
        },
        "id": "E11YP6i3JPKy",
        "outputId": "e54c6d98-6608-4dcc-c457-c51613bf8372"
      },
      "execution_count": 173,
      "outputs": [
        {
          "output_type": "execute_result",
          "data": {
            "text/plain": [
              "((411,), (411,))"
            ]
          },
          "metadata": {},
          "execution_count": 173
        }
      ]
    },
    {
      "cell_type": "code",
      "source": [
        "plt.figure(figsize=(10, 7))\n",
        "plt.scatter(X_train, y_train, s=5, label=\"Train data\")\n",
        "plt.scatter(X_test, y_test, s=5, label=\"Test data\")\n",
        "plt.xlabel(\"Date\")\n",
        "plt.ylabel(\"BABA Price\")\n",
        "plt.legend(fontsize=14)\n",
        "plt.show();"
      ],
      "metadata": {
        "colab": {
          "base_uri": "https://localhost:8080/",
          "height": 442
        },
        "id": "ItWmqKRUJYiy",
        "outputId": "b27aa194-f6ae-4249-978d-54aadba81dd3"
      },
      "execution_count": 174,
      "outputs": [
        {
          "output_type": "display_data",
          "data": {
            "text/plain": [
              "<Figure size 720x504 with 1 Axes>"
            ],
            "image/png": "[encoded data removed]"
          },
          "metadata": {
            "needs_background": "light"
          }
        }
      ]
    },
    {
      "cell_type": "code",
      "source": [
        "X_train[:10], y_train[:10]"
      ],
      "metadata": {
        "colab": {
          "base_uri": "https://localhost:8080/"
        },
        "id": "r_h2ajujnJCD",
        "outputId": "cbf17b9d-090c-4fb6-ef4d-f23fa27160cd"
      },
      "execution_count": 175,
      "outputs": [
        {
          "output_type": "execute_result",
          "data": {
            "text/plain": [
              "(array(['2015-01-02T00:00:00.000000000', '2015-01-05T00:00:00.000000000',\n",
              "        '2015-01-06T00:00:00.000000000', '2015-01-07T00:00:00.000000000',\n",
              "        '2015-01-08T00:00:00.000000000', '2015-01-09T00:00:00.000000000',\n",
              "        '2015-01-12T00:00:00.000000000', '2015-01-13T00:00:00.000000000',\n",
              "        '2015-01-14T00:00:00.000000000', '2015-01-15T00:00:00.000000000'],\n",
              "       dtype='datetime64[ns]'),\n",
              " array([103.59999847, 101.        , 103.31999969, 102.12999725,\n",
              "        105.02999878, 103.01999664, 101.62000275, 100.76999664,\n",
              "         99.58000183,  96.30999756]))"
            ]
          },
          "metadata": {},
          "execution_count": 175
        }
      ]
    },
    {
      "cell_type": "code",
      "source": [
        "HORIZON = 1 \n",
        "WINDOW_SIZE = 7"
      ],
      "metadata": {
        "id": "_PkAUnszJpiC"
      },
      "execution_count": 176,
      "outputs": []
    },
    {
      "cell_type": "code",
      "source": [
        "window_step = np.expand_dims(np.arange(WINDOW_SIZE+HORIZON), axis=0)"
      ],
      "metadata": {
        "id": "sQM56txRoykd"
      },
      "execution_count": 177,
      "outputs": []
    },
    {
      "cell_type": "code",
      "source": [
        "window_step"
      ],
      "metadata": {
        "colab": {
          "base_uri": "https://localhost:8080/"
        },
        "id": "kfK9VC-Co6X1",
        "outputId": "33d0d929-6aa2-447d-bc81-b280d641806b"
      },
      "execution_count": 178,
      "outputs": [
        {
          "output_type": "execute_result",
          "data": {
            "text/plain": [
              "array([[0, 1, 2, 3, 4, 5, 6, 7]])"
            ]
          },
          "metadata": {},
          "execution_count": 178
        }
      ]
    },
    {
      "cell_type": "code",
      "source": [
        "window_indexes = window_step + np.expand_dims(np.arange(len(y_train)-(WINDOW_SIZE+HORIZON-1)), axis=0).T"
      ],
      "metadata": {
        "id": "TZ7SksQnpB2E"
      },
      "execution_count": 179,
      "outputs": []
    },
    {
      "cell_type": "code",
      "source": [
        "window_indexes"
      ],
      "metadata": {
        "colab": {
          "base_uri": "https://localhost:8080/"
        },
        "id": "qbnQGMh2pf7k",
        "outputId": "ee991751-aa33-442a-9bda-6f93168a03d2"
      },
      "execution_count": 180,
      "outputs": [
        {
          "output_type": "execute_result",
          "data": {
            "text/plain": [
              "array([[   0,    1,    2, ...,    5,    6,    7],\n",
              "       [   1,    2,    3, ...,    6,    7,    8],\n",
              "       [   2,    3,    4, ...,    7,    8,    9],\n",
              "       ...,\n",
              "       [1632, 1633, 1634, ..., 1637, 1638, 1639],\n",
              "       [1633, 1634, 1635, ..., 1638, 1639, 1640],\n",
              "       [1634, 1635, 1636, ..., 1639, 1640, 1641]])"
            ]
          },
          "metadata": {},
          "execution_count": 180
        }
      ]
    },
    {
      "cell_type": "code",
      "source": [
        "windowed_array = y_train[window_indexes]\n",
        "windowed_array"
      ],
      "metadata": {
        "colab": {
          "base_uri": "https://localhost:8080/"
        },
        "id": "qpNDKf4_plyM",
        "outputId": "7516ff9d-a907-452a-d043-a2b9730295b7"
      },
      "execution_count": 181,
      "outputs": [
        {
          "output_type": "execute_result",
          "data": {
            "text/plain": [
              "array([[103.59999847, 101.        , 103.31999969, ..., 103.01999664,\n",
              "        101.62000275, 100.76999664],\n",
              "       [101.        , 103.31999969, 102.12999725, ..., 101.62000275,\n",
              "        100.76999664,  99.58000183],\n",
              "       [103.31999969, 102.12999725, 105.02999878, ..., 100.76999664,\n",
              "         99.58000183,  96.30999756],\n",
              "       ...,\n",
              "       [228.58999634, 229.44000244, 226.77999878, ..., 211.6000061 ,\n",
              "        208.        , 199.8500061 ],\n",
              "       [229.44000244, 226.77999878, 221.86999512, ..., 208.        ,\n",
              "        199.8500061 , 205.94000244],\n",
              "       [226.77999878, 221.86999512, 217.75      , ..., 199.8500061 ,\n",
              "        205.94000244, 205.47999573]])"
            ]
          },
          "metadata": {},
          "execution_count": 181
        }
      ]
    },
    {
      "cell_type": "code",
      "source": [
        "train_window = []\n",
        "train_label = []\n",
        "\n",
        "for i in windowed_array:\n",
        "  train_window.append(i[:7])\n",
        "  train_label.append(i[-1])"
      ],
      "metadata": {
        "id": "KJhEbeCwoAG8"
      },
      "execution_count": 182,
      "outputs": []
    },
    {
      "cell_type": "code",
      "source": [
        "train_window[0], train_label[0]"
      ],
      "metadata": {
        "colab": {
          "base_uri": "https://localhost:8080/"
        },
        "id": "UKtPGkklm5mb",
        "outputId": "7821bea2-2657-4184-dabb-c66d3917d84c"
      },
      "execution_count": 183,
      "outputs": [
        {
          "output_type": "execute_result",
          "data": {
            "text/plain": [
              "(array([103.59999847, 101.        , 103.31999969, 102.12999725,\n",
              "        105.02999878, 103.01999664, 101.62000275]), 100.7699966430664)"
            ]
          },
          "metadata": {},
          "execution_count": 183
        }
      ]
    },
    {
      "cell_type": "code",
      "source": [
        "pd.DataFrame(train_window, train_label)"
      ],
      "metadata": {
        "colab": {
          "base_uri": "https://localhost:8080/",
          "height": 424
        },
        "id": "FitiErVawcsE",
        "outputId": "69e5c757-69e6-4ab1-ff70-e6f2ce9507e7"
      },
      "execution_count": 184,
      "outputs": [
        {
          "output_type": "execute_result",
          "data": {
            "text/plain": [
              "                     0           1           2           3           4  \\\n",
              "100.769997  103.599998  101.000000  103.320000  102.129997  105.029999   \n",
              "99.580002   101.000000  103.320000  102.129997  105.029999  103.019997   \n",
              "96.309998   103.320000  102.129997  105.029999  103.019997  101.620003   \n",
              "96.889999   102.129997  105.029999  103.019997  101.620003  100.769997   \n",
              "100.040001  105.029999  103.019997  101.620003  100.769997   99.580002   \n",
              "...                ...         ...         ...         ...         ...   \n",
              "211.600006  218.380005  228.500000  228.589996  229.440002  226.779999   \n",
              "208.000000  228.500000  228.589996  229.440002  226.779999  221.869995   \n",
              "199.850006  228.589996  229.440002  226.779999  221.869995  217.750000   \n",
              "205.940002  229.440002  226.779999  221.869995  217.750000  211.600006   \n",
              "205.479996  226.779999  221.869995  217.750000  211.600006  208.000000   \n",
              "\n",
              "                     5           6  \n",
              "100.769997  103.019997  101.620003  \n",
              "99.580002   101.620003  100.769997  \n",
              "96.309998   100.769997   99.580002  \n",
              "96.889999    99.580002   96.309998  \n",
              "100.040001   96.309998   96.889999  \n",
              "...                ...         ...  \n",
              "211.600006  221.869995  217.750000  \n",
              "208.000000  217.750000  211.600006  \n",
              "199.850006  211.600006  208.000000  \n",
              "205.940002  208.000000  199.850006  \n",
              "205.479996  199.850006  205.940002  \n",
              "\n",
              "[1635 rows x 7 columns]"
            ],
            "text/html": [
              "\n",
              "  <div id=\"df-5c71e336-a9b7-4442-9298-97edec533ca4\">\n",
              "    <div class=\"colab-df-container\">\n",
              "      <div>\n",
              "<style scoped>\n",
              "    .dataframe tbody tr th:only-of-type {\n",
              "        vertical-align: middle;\n",
              "    }\n",
              "\n",
              "    .dataframe tbody tr th {\n",
              "        vertical-align: top;\n",
              "    }\n",
              "\n",
              "    .dataframe thead th {\n",
              "        text-align: right;\n",
              "    }\n",
              "</style>\n",
              "<table border=\"1\" class=\"dataframe\">\n",
              "  <thead>\n",
              "    <tr style=\"text-align: right;\">\n",
              "      <th></th>\n",
              "      <th>0</th>\n",
              "      <th>1</th>\n",
              "      <th>2</th>\n",
              "      <th>3</th>\n",
              "      <th>4</th>\n",
              "      <th>5</th>\n",
              "      <th>6</th>\n",
              "    </tr>\n",
              "  </thead>\n",
              "  <tbody>\n",
              "    <tr>\n",
              "      <th>100.769997</th>\n",
              "      <td>103.599998</td>\n",
              "      <td>101.000000</td>\n",
              "      <td>103.320000</td>\n",
              "      <td>102.129997</td>\n",
              "      <td>105.029999</td>\n",
              "      <td>103.019997</td>\n",
              "      <td>101.620003</td>\n",
              "    </tr>\n",
              "    <tr>\n",
              "      <th>99.580002</th>\n",
              "      <td>101.000000</td>\n",
              "      <td>103.320000</td>\n",
              "      <td>102.129997</td>\n",
              "      <td>105.029999</td>\n",
              "      <td>103.019997</td>\n",
              "      <td>101.620003</td>\n",
              "      <td>100.769997</td>\n",
              "    </tr>\n",
              "    <tr>\n",
              "      <th>96.309998</th>\n",
              "      <td>103.320000</td>\n",
              "      <td>102.129997</td>\n",
              "      <td>105.029999</td>\n",
              "      <td>103.019997</td>\n",
              "      <td>101.620003</td>\n",
              "      <td>100.769997</td>\n",
              "      <td>99.580002</td>\n",
              "    </tr>\n",
              "    <tr>\n",
              "      <th>96.889999</th>\n",
              "      <td>102.129997</td>\n",
              "      <td>105.029999</td>\n",
              "      <td>103.019997</td>\n",
              "      <td>101.620003</td>\n",
              "      <td>100.769997</td>\n",
              "      <td>99.580002</td>\n",
              "      <td>96.309998</td>\n",
              "    </tr>\n",
              "    <tr>\n",
              "      <th>100.040001</th>\n",
              "      <td>105.029999</td>\n",
              "      <td>103.019997</td>\n",
              "      <td>101.620003</td>\n",
              "      <td>100.769997</td>\n",
              "      <td>99.580002</td>\n",
              "      <td>96.309998</td>\n",
              "      <td>96.889999</td>\n",
              "    </tr>\n",
              "    <tr>\n",
              "      <th>...</th>\n",
              "      <td>...</td>\n",
              "      <td>...</td>\n",
              "      <td>...</td>\n",
              "      <td>...</td>\n",
              "      <td>...</td>\n",
              "      <td>...</td>\n",
              "      <td>...</td>\n",
              "    </tr>\n",
              "    <tr>\n",
              "      <th>211.600006</th>\n",
              "      <td>218.380005</td>\n",
              "      <td>228.500000</td>\n",
              "      <td>228.589996</td>\n",
              "      <td>229.440002</td>\n",
              "      <td>226.779999</td>\n",
              "      <td>221.869995</td>\n",
              "      <td>217.750000</td>\n",
              "    </tr>\n",
              "    <tr>\n",
              "      <th>208.000000</th>\n",
              "      <td>228.500000</td>\n",
              "      <td>228.589996</td>\n",
              "      <td>229.440002</td>\n",
              "      <td>226.779999</td>\n",
              "      <td>221.869995</td>\n",
              "      <td>217.750000</td>\n",
              "      <td>211.600006</td>\n",
              "    </tr>\n",
              "    <tr>\n",
              "      <th>199.850006</th>\n",
              "      <td>228.589996</td>\n",
              "      <td>229.440002</td>\n",
              "      <td>226.779999</td>\n",
              "      <td>221.869995</td>\n",
              "      <td>217.750000</td>\n",
              "      <td>211.600006</td>\n",
              "      <td>208.000000</td>\n",
              "    </tr>\n",
              "    <tr>\n",
              "      <th>205.940002</th>\n",
              "      <td>229.440002</td>\n",
              "      <td>226.779999</td>\n",
              "      <td>221.869995</td>\n",
              "      <td>217.750000</td>\n",
              "      <td>211.600006</td>\n",
              "      <td>208.000000</td>\n",
              "      <td>199.850006</td>\n",
              "    </tr>\n",
              "    <tr>\n",
              "      <th>205.479996</th>\n",
              "      <td>226.779999</td>\n",
              "      <td>221.869995</td>\n",
              "      <td>217.750000</td>\n",
              "      <td>211.600006</td>\n",
              "      <td>208.000000</td>\n",
              "      <td>199.850006</td>\n",
              "      <td>205.940002</td>\n",
              "    </tr>\n",
              "  </tbody>\n",
              "</table>\n",
              "<p>1635 rows × 7 columns</p>\n",
              "</div>\n",
              "      <button class=\"colab-df-convert\" onclick=\"convertToInteractive('df-5c71e336-a9b7-4442-9298-97edec533ca4')\"\n",
              "              title=\"Convert this dataframe to an interactive table.\"\n",
              "              style=\"display:none;\">\n",
              "        \n",
              "  <svg xmlns=\"http://www.w3.org/2000/svg\" height=\"24px\"viewBox=\"0 0 24 24\"\n",
              "       width=\"24px\">\n",
              "    <path d=\"M0 0h24v24H0V0z\" fill=\"none\"/>\n",
              "    <path d=\"M18.56 5.44l.94 2.06.94-2.06 2.06-.94-2.06-.94-.94-2.06-.94 2.06-2.06.94zm-11 1L8.5 8.5l.94-2.06 2.06-.94-2.06-.94L8.5 2.5l-.94 2.06-2.06.94zm10 10l.94 2.06.94-2.06 2.06-.94-2.06-.94-.94-2.06-.94 2.06-2.06.94z\"/><path d=\"M17.41 7.96l-1.37-1.37c-.4-.4-.92-.59-1.43-.59-.52 0-1.04.2-1.43.59L10.3 9.45l-7.72 7.72c-.78.78-.78 2.05 0 2.83L4 21.41c.39.39.9.59 1.41.59.51 0 1.02-.2 1.41-.59l7.78-7.78 2.81-2.81c.8-.78.8-2.07 0-2.86zM5.41 20L4 18.59l7.72-7.72 1.47 1.35L5.41 20z\"/>\n",
              "  </svg>\n",
              "      </button>\n",
              "      \n",
              "  <style>\n",
              "    .colab-df-container {\n",
              "      display:flex;\n",
              "      flex-wrap:wrap;\n",
              "      gap: 12px;\n",
              "    }\n",
              "\n",
              "    .colab-df-convert {\n",
              "      background-color: #E8F0FE;\n",
              "      border: none;\n",
              "      border-radius: 50%;\n",
              "      cursor: pointer;\n",
              "      display: none;\n",
              "      fill: #1967D2;\n",
              "      height: 32px;\n",
              "      padding: 0 0 0 0;\n",
              "      width: 32px;\n",
              "    }\n",
              "\n",
              "    .colab-df-convert:hover {\n",
              "      background-color: #E2EBFA;\n",
              "      box-shadow: 0px 1px 2px rgba(60, 64, 67, 0.3), 0px 1px 3px 1px rgba(60, 64, 67, 0.15);\n",
              "      fill: #174EA6;\n",
              "    }\n",
              "\n",
              "    [theme=dark] .colab-df-convert {\n",
              "      background-color: #3B4455;\n",
              "      fill: #D2E3FC;\n",
              "    }\n",
              "\n",
              "    [theme=dark] .colab-df-convert:hover {\n",
              "      background-color: #434B5C;\n",
              "      box-shadow: 0px 1px 3px 1px rgba(0, 0, 0, 0.15);\n",
              "      filter: drop-shadow(0px 1px 2px rgba(0, 0, 0, 0.3));\n",
              "      fill: #FFFFFF;\n",
              "    }\n",
              "  </style>\n",
              "\n",
              "      <script>\n",
              "        const buttonEl =\n",
              "          document.querySelector('#df-5c71e336-a9b7-4442-9298-97edec533ca4 button.colab-df-convert');\n",
              "        buttonEl.style.display =\n",
              "          google.colab.kernel.accessAllowed ? 'block' : 'none';\n",
              "\n",
              "        async function convertToInteractive(key) {\n",
              "          const element = document.querySelector('#df-5c71e336-a9b7-4442-9298-97edec533ca4');\n",
              "          const dataTable =\n",
              "            await google.colab.kernel.invokeFunction('convertToInteractive',\n",
              "                                                     [key], {});\n",
              "          if (!dataTable) return;\n",
              "\n",
              "          const docLinkHtml = 'Like what you see? Visit the ' +\n",
              "            '<a target=\"_blank\" href=https://colab.research.google.com/notebooks/data_table.ipynb>data table notebook</a>'\n",
              "            + ' to learn more about interactive tables.';\n",
              "          element.innerHTML = '';\n",
              "          dataTable['output_type'] = 'display_data';\n",
              "          await google.colab.output.renderOutput(dataTable, element);\n",
              "          const docLink = document.createElement('div');\n",
              "          docLink.innerHTML = docLinkHtml;\n",
              "          element.appendChild(docLink);\n",
              "        }\n",
              "      </script>\n",
              "    </div>\n",
              "  </div>\n",
              "  "
            ]
          },
          "metadata": {},
          "execution_count": 184
        }
      ]
    },
    {
      "cell_type": "code",
      "source": [
        "for i in range(3):\n",
        "  print(f\"Window: {train_window[i]} -> Label: {train_label[i]}\")"
      ],
      "metadata": {
        "colab": {
          "base_uri": "https://localhost:8080/"
        },
        "id": "WgHyUpKXrmnB",
        "outputId": "de694d3a-6ec5-4899-aa52-6672cfa1e991"
      },
      "execution_count": 185,
      "outputs": [
        {
          "output_type": "stream",
          "name": "stdout",
          "text": [
            "Window: [103.59999847 101.         103.31999969 102.12999725 105.02999878\n",
            " 103.01999664 101.62000275] -> Label: 100.7699966430664\n",
            "Window: [101.         103.31999969 102.12999725 105.02999878 103.01999664\n",
            " 101.62000275 100.76999664] -> Label: 99.58000183105469\n",
            "Window: [103.31999969 102.12999725 105.02999878 103.01999664 101.62000275\n",
            " 100.76999664  99.58000183] -> Label: 96.30999755859375\n"
          ]
        }
      ]
    },
    {
      "cell_type": "code",
      "source": [
        "int(1635*0.8)"
      ],
      "metadata": {
        "colab": {
          "base_uri": "https://localhost:8080/"
        },
        "id": "67VJKVRaxejP",
        "outputId": "611cbee6-5972-4bec-9bd4-f1ece8b5bdff"
      },
      "execution_count": 186,
      "outputs": [
        {
          "output_type": "execute_result",
          "data": {
            "text/plain": [
              "1308"
            ]
          },
          "metadata": {},
          "execution_count": 186
        }
      ]
    },
    {
      "cell_type": "code",
      "source": [
        "train_windows = train_window[:1308]\n",
        "train_labels = train_label[:1308]\n",
        "test_windows = train_window[1308:]\n",
        "test_labels = train_label[1308:]"
      ],
      "metadata": {
        "id": "YAEAwcj2r_bM"
      },
      "execution_count": 187,
      "outputs": []
    },
    {
      "cell_type": "code",
      "source": [
        "len(train_windows), len(train_labels), len(test_windows), len(test_labels)"
      ],
      "metadata": {
        "colab": {
          "base_uri": "https://localhost:8080/"
        },
        "id": "YLwviVgsr_T8",
        "outputId": "9709d2b8-f5f6-45bb-bc57-80d045a5b721"
      },
      "execution_count": 188,
      "outputs": [
        {
          "output_type": "execute_result",
          "data": {
            "text/plain": [
              "(1308, 1308, 327, 327)"
            ]
          },
          "metadata": {},
          "execution_count": 188
        }
      ]
    },
    {
      "cell_type": "code",
      "source": [
        "train_windows[1]"
      ],
      "metadata": {
        "colab": {
          "base_uri": "https://localhost:8080/"
        },
        "id": "p5Lin4Rmx8no",
        "outputId": "e4a557a5-379a-4582-d5e2-08477a6be259"
      },
      "execution_count": 189,
      "outputs": [
        {
          "output_type": "execute_result",
          "data": {
            "text/plain": [
              "array([101.        , 103.31999969, 102.12999725, 105.02999878,\n",
              "       103.01999664, 101.62000275, 100.76999664])"
            ]
          },
          "metadata": {},
          "execution_count": 189
        }
      ]
    },
    {
      "cell_type": "code",
      "source": [
        "train_labels[1]"
      ],
      "metadata": {
        "colab": {
          "base_uri": "https://localhost:8080/"
        },
        "id": "q99Q5u4NzUDS",
        "outputId": "52a86862-1e99-4e17-a2a2-76d023f9200e"
      },
      "execution_count": 190,
      "outputs": [
        {
          "output_type": "execute_result",
          "data": {
            "text/plain": [
              "99.58000183105469"
            ]
          },
          "metadata": {},
          "execution_count": 190
        }
      ]
    },
    {
      "cell_type": "code",
      "source": [
        "test_windows[1]"
      ],
      "metadata": {
        "colab": {
          "base_uri": "https://localhost:8080/"
        },
        "id": "EWlurUUYzZJS",
        "outputId": "90a09956-34df-45e0-bebe-b0bb3313c3dc"
      },
      "execution_count": 191,
      "outputs": [
        {
          "output_type": "execute_result",
          "data": {
            "text/plain": [
              "array([184.80999756, 180.        , 180.88000488, 181.30000305,\n",
              "       176.33999634, 185.75      , 188.55999756])"
            ]
          },
          "metadata": {},
          "execution_count": 191
        }
      ]
    },
    {
      "cell_type": "code",
      "source": [
        "test_labels[1]"
      ],
      "metadata": {
        "colab": {
          "base_uri": "https://localhost:8080/"
        },
        "id": "KFg3HbR2zd-D",
        "outputId": "cd01a5aa-0289-452c-8cbe-00abc4586a05"
      },
      "execution_count": 192,
      "outputs": [
        {
          "output_type": "execute_result",
          "data": {
            "text/plain": [
              "195.32000732421875"
            ]
          },
          "metadata": {},
          "execution_count": 192
        }
      ]
    },
    {
      "cell_type": "code",
      "source": [
        "train_windows = np.asarray(train_windows)\n",
        "train_labels = np.asarray(train_labels)\n",
        "test_windows = np.asarray(test_windows)\n",
        "test_labels = np.asarray(test_labels)"
      ],
      "metadata": {
        "id": "r5asnOg6ztlz"
      },
      "execution_count": 193,
      "outputs": []
    },
    {
      "cell_type": "code",
      "source": [
        "train_windows.shape, train_labels.shape, test_windows.shape, test_labels.shape"
      ],
      "metadata": {
        "colab": {
          "base_uri": "https://localhost:8080/"
        },
        "id": "te2P9bPA7laZ",
        "outputId": "47165807-1e93-4aad-992f-cb34abc56ee7"
      },
      "execution_count": 194,
      "outputs": [
        {
          "output_type": "execute_result",
          "data": {
            "text/plain": [
              "((1308, 7), (1308,), (327, 7), (327,))"
            ]
          },
          "metadata": {},
          "execution_count": 194
        }
      ]
    },
    {
      "cell_type": "code",
      "source": [
        "  tf.random.set_seed(42)\n",
        "\n",
        "  model = tf.keras.Sequential([\n",
        "      tf.keras.layers.Dense(128,activation='relu'),\n",
        "      tf.keras.layers.Dense(HORIZON, activation='linear')\n",
        "  ])\n",
        "\n",
        "model.compile(loss=tf.keras.losses.MAE,\n",
        "              optimizer= tf.keras.optimizers.Adam(),\n",
        "              metrics=['mae'])\n",
        "\n",
        "history = model.fit(train_windows,train_labels,\n",
        "                    epochs=50,\n",
        "                    verbose=1,\n",
        "                    batch_size=128,\n",
        "                    validation_data=(test_windows,test_labels))"
      ],
      "metadata": {
        "colab": {
          "base_uri": "https://localhost:8080/"
        },
        "id": "A8mKKTfnLqu5",
        "outputId": "88697224-0a53-43d2-fc8a-431b5538bf13"
      },
      "execution_count": 195,
      "outputs": [
        {
          "output_type": "stream",
          "name": "stdout",
          "text": [
            "Epoch 1/50\n",
            "11/11 [==============================] - 1s 20ms/step - loss: 21.1881 - mae: 21.1881 - val_loss: 23.8443 - val_mae: 23.8443\n",
            "Epoch 2/50\n",
            "11/11 [==============================] - 0s 5ms/step - loss: 7.5661 - mae: 7.5661 - val_loss: 8.4789 - val_mae: 8.4789\n",
            "Epoch 3/50\n",
            "11/11 [==============================] - 0s 7ms/step - loss: 4.9752 - mae: 4.9752 - val_loss: 8.9099 - val_mae: 8.9099\n",
            "Epoch 4/50\n",
            "11/11 [==============================] - 0s 5ms/step - loss: 4.2081 - mae: 4.2081 - val_loss: 7.7408 - val_mae: 7.7408\n",
            "Epoch 5/50\n",
            "11/11 [==============================] - 0s 6ms/step - loss: 3.9529 - mae: 3.9529 - val_loss: 7.8357 - val_mae: 7.8357\n",
            "Epoch 6/50\n",
            "11/11 [==============================] - 0s 5ms/step - loss: 3.7818 - mae: 3.7818 - val_loss: 7.7371 - val_mae: 7.7371\n",
            "Epoch 7/50\n",
            "11/11 [==============================] - 0s 6ms/step - loss: 3.7688 - mae: 3.7688 - val_loss: 7.7310 - val_mae: 7.7310\n",
            "Epoch 8/50\n",
            "11/11 [==============================] - 0s 6ms/step - loss: 3.8405 - mae: 3.8405 - val_loss: 7.6767 - val_mae: 7.6767\n",
            "Epoch 9/50\n",
            "11/11 [==============================] - 0s 11ms/step - loss: 3.7524 - mae: 3.7524 - val_loss: 7.5232 - val_mae: 7.5232\n",
            "Epoch 10/50\n",
            "11/11 [==============================] - 0s 5ms/step - loss: 3.7276 - mae: 3.7276 - val_loss: 7.6040 - val_mae: 7.6040\n",
            "Epoch 11/50\n",
            "11/11 [==============================] - 0s 7ms/step - loss: 3.6616 - mae: 3.6616 - val_loss: 7.4190 - val_mae: 7.4190\n",
            "Epoch 12/50\n",
            "11/11 [==============================] - 0s 6ms/step - loss: 3.6369 - mae: 3.6369 - val_loss: 7.4324 - val_mae: 7.4324\n",
            "Epoch 13/50\n",
            "11/11 [==============================] - 0s 6ms/step - loss: 3.7000 - mae: 3.7000 - val_loss: 7.5499 - val_mae: 7.5499\n",
            "Epoch 14/50\n",
            "11/11 [==============================] - 0s 6ms/step - loss: 3.6820 - mae: 3.6820 - val_loss: 7.4081 - val_mae: 7.4081\n",
            "Epoch 15/50\n",
            "11/11 [==============================] - 0s 7ms/step - loss: 3.5854 - mae: 3.5854 - val_loss: 7.2202 - val_mae: 7.2202\n",
            "Epoch 16/50\n",
            "11/11 [==============================] - 0s 7ms/step - loss: 3.5383 - mae: 3.5383 - val_loss: 7.2030 - val_mae: 7.2030\n",
            "Epoch 17/50\n",
            "11/11 [==============================] - 0s 5ms/step - loss: 3.5523 - mae: 3.5523 - val_loss: 7.3748 - val_mae: 7.3748\n",
            "Epoch 18/50\n",
            "11/11 [==============================] - 0s 8ms/step - loss: 3.5833 - mae: 3.5833 - val_loss: 7.0415 - val_mae: 7.0415\n",
            "Epoch 19/50\n",
            "11/11 [==============================] - 0s 5ms/step - loss: 3.5021 - mae: 3.5021 - val_loss: 7.2276 - val_mae: 7.2276\n",
            "Epoch 20/50\n",
            "11/11 [==============================] - 0s 6ms/step - loss: 3.4657 - mae: 3.4657 - val_loss: 6.9346 - val_mae: 6.9346\n",
            "Epoch 21/50\n",
            "11/11 [==============================] - 0s 6ms/step - loss: 3.3797 - mae: 3.3797 - val_loss: 7.1996 - val_mae: 7.1996\n",
            "Epoch 22/50\n",
            "11/11 [==============================] - 0s 7ms/step - loss: 3.4799 - mae: 3.4799 - val_loss: 6.9459 - val_mae: 6.9459\n",
            "Epoch 23/50\n",
            "11/11 [==============================] - 0s 7ms/step - loss: 3.3328 - mae: 3.3328 - val_loss: 6.7597 - val_mae: 6.7597\n",
            "Epoch 24/50\n",
            "11/11 [==============================] - 0s 7ms/step - loss: 3.3065 - mae: 3.3065 - val_loss: 6.7228 - val_mae: 6.7228\n",
            "Epoch 25/50\n",
            "11/11 [==============================] - 0s 6ms/step - loss: 3.3237 - mae: 3.3237 - val_loss: 6.7461 - val_mae: 6.7461\n",
            "Epoch 26/50\n",
            "11/11 [==============================] - 0s 6ms/step - loss: 3.2661 - mae: 3.2661 - val_loss: 6.5791 - val_mae: 6.5791\n",
            "Epoch 27/50\n",
            "11/11 [==============================] - 0s 6ms/step - loss: 3.2195 - mae: 3.2195 - val_loss: 6.5915 - val_mae: 6.5915\n",
            "Epoch 28/50\n",
            "11/11 [==============================] - 0s 5ms/step - loss: 3.2119 - mae: 3.2119 - val_loss: 6.4504 - val_mae: 6.4504\n",
            "Epoch 29/50\n",
            "11/11 [==============================] - 0s 5ms/step - loss: 3.1530 - mae: 3.1530 - val_loss: 6.5240 - val_mae: 6.5240\n",
            "Epoch 30/50\n",
            "11/11 [==============================] - 0s 6ms/step - loss: 3.1808 - mae: 3.1808 - val_loss: 6.3411 - val_mae: 6.3411\n",
            "Epoch 31/50\n",
            "11/11 [==============================] - 0s 7ms/step - loss: 3.0859 - mae: 3.0859 - val_loss: 6.5320 - val_mae: 6.5320\n",
            "Epoch 32/50\n",
            "11/11 [==============================] - 0s 6ms/step - loss: 3.1209 - mae: 3.1209 - val_loss: 6.2793 - val_mae: 6.2793\n",
            "Epoch 33/50\n",
            "11/11 [==============================] - 0s 5ms/step - loss: 3.0659 - mae: 3.0659 - val_loss: 6.2197 - val_mae: 6.2197\n",
            "Epoch 34/50\n",
            "11/11 [==============================] - 0s 5ms/step - loss: 3.0401 - mae: 3.0401 - val_loss: 6.1496 - val_mae: 6.1496\n",
            "Epoch 35/50\n",
            "11/11 [==============================] - 0s 5ms/step - loss: 2.9884 - mae: 2.9884 - val_loss: 6.3756 - val_mae: 6.3756\n",
            "Epoch 36/50\n",
            "11/11 [==============================] - 0s 8ms/step - loss: 3.2105 - mae: 3.2105 - val_loss: 6.7255 - val_mae: 6.7255\n",
            "Epoch 37/50\n",
            "11/11 [==============================] - 0s 10ms/step - loss: 3.1097 - mae: 3.1097 - val_loss: 6.8120 - val_mae: 6.8120\n",
            "Epoch 38/50\n",
            "11/11 [==============================] - 0s 10ms/step - loss: 3.2592 - mae: 3.2592 - val_loss: 7.1488 - val_mae: 7.1488\n",
            "Epoch 39/50\n",
            "11/11 [==============================] - 0s 10ms/step - loss: 3.1992 - mae: 3.1992 - val_loss: 6.3246 - val_mae: 6.3246\n",
            "Epoch 40/50\n",
            "11/11 [==============================] - 0s 10ms/step - loss: 3.0128 - mae: 3.0128 - val_loss: 5.7902 - val_mae: 5.7902\n",
            "Epoch 41/50\n",
            "11/11 [==============================] - 0s 10ms/step - loss: 2.9439 - mae: 2.9439 - val_loss: 5.9805 - val_mae: 5.9805\n",
            "Epoch 42/50\n",
            "11/11 [==============================] - 0s 11ms/step - loss: 2.9252 - mae: 2.9252 - val_loss: 6.1280 - val_mae: 6.1280\n",
            "Epoch 43/50\n",
            "11/11 [==============================] - 0s 10ms/step - loss: 2.8958 - mae: 2.8958 - val_loss: 5.6001 - val_mae: 5.6001\n",
            "Epoch 44/50\n",
            "11/11 [==============================] - 0s 10ms/step - loss: 2.7510 - mae: 2.7510 - val_loss: 5.6475 - val_mae: 5.6475\n",
            "Epoch 45/50\n",
            "11/11 [==============================] - 0s 9ms/step - loss: 2.7124 - mae: 2.7124 - val_loss: 5.5550 - val_mae: 5.5550\n",
            "Epoch 46/50\n",
            "11/11 [==============================] - 0s 9ms/step - loss: 2.7345 - mae: 2.7345 - val_loss: 5.5111 - val_mae: 5.5111\n",
            "Epoch 47/50\n",
            "11/11 [==============================] - 0s 10ms/step - loss: 2.7686 - mae: 2.7686 - val_loss: 5.4250 - val_mae: 5.4250\n",
            "Epoch 48/50\n",
            "11/11 [==============================] - 0s 8ms/step - loss: 2.6897 - mae: 2.6897 - val_loss: 6.0309 - val_mae: 6.0309\n",
            "Epoch 49/50\n",
            "11/11 [==============================] - 0s 10ms/step - loss: 2.8848 - mae: 2.8848 - val_loss: 6.5931 - val_mae: 6.5931\n",
            "Epoch 50/50\n",
            "11/11 [==============================] - 0s 10ms/step - loss: 2.9913 - mae: 2.9913 - val_loss: 5.7656 - val_mae: 5.7656\n"
          ]
        }
      ]
    },
    {
      "cell_type": "code",
      "source": [
        "model.evaluate(test_windows, test_labels)"
      ],
      "metadata": {
        "colab": {
          "base_uri": "https://localhost:8080/"
        },
        "id": "2619ubd8M2-a",
        "outputId": "fc3b75a5-ce90-48be-aae3-d002dca09a22"
      },
      "execution_count": 196,
      "outputs": [
        {
          "output_type": "stream",
          "name": "stdout",
          "text": [
            "11/11 [==============================] - 0s 3ms/step - loss: 5.7656 - mae: 5.7656\n"
          ]
        },
        {
          "output_type": "execute_result",
          "data": {
            "text/plain": [
              "[5.765577793121338, 5.765577793121338]"
            ]
          },
          "metadata": {},
          "execution_count": 196
        }
      ]
    },
    {
      "cell_type": "code",
      "source": [
        "model_pred = model.predict(test_windows)"
      ],
      "metadata": {
        "colab": {
          "base_uri": "https://localhost:8080/"
        },
        "id": "zyGswtiL0KhU",
        "outputId": "de4a1f75-583c-49ca-ded8-4d59e3921a3a"
      },
      "execution_count": 197,
      "outputs": [
        {
          "output_type": "stream",
          "name": "stdout",
          "text": [
            "11/11 [==============================] - 0s 3ms/step\n"
          ]
        }
      ]
    },
    {
      "cell_type": "code",
      "source": [
        "model_pred = tf.squeeze(model_pred,axis=1)"
      ],
      "metadata": {
        "id": "5aWUGbYC4plR"
      },
      "execution_count": 198,
      "outputs": []
    },
    {
      "cell_type": "code",
      "source": [
        "model_pred[:10]"
      ],
      "metadata": {
        "colab": {
          "base_uri": "https://localhost:8080/"
        },
        "id": "kMizT6WQ4s0g",
        "outputId": "4f7f5649-ef01-4a1c-c41f-980270daa995"
      },
      "execution_count": 199,
      "outputs": [
        {
          "output_type": "execute_result",
          "data": {
            "text/plain": [
              "<tf.Tensor: shape=(10,), dtype=float32, numpy=\n",
              "array([184.83405, 186.3782 , 190.29663, 190.2775 , 192.39493, 194.23016,\n",
              "       191.2185 , 192.62282, 191.3948 , 194.13354], dtype=float32)>"
            ]
          },
          "metadata": {},
          "execution_count": 199
        }
      ]
    },
    {
      "cell_type": "code",
      "source": [
        "model_pred = np.asarray(model_pred)"
      ],
      "metadata": {
        "id": "oIgCrLsd7MA0"
      },
      "execution_count": 200,
      "outputs": []
    },
    {
      "cell_type": "code",
      "source": [
        "test_labels.shape, model_pred.shape"
      ],
      "metadata": {
        "colab": {
          "base_uri": "https://localhost:8080/"
        },
        "id": "KB4fF-RT7QQM",
        "outputId": "7fcce028-d0cf-4a71-b6ec-12877f4cfdf6"
      },
      "execution_count": 201,
      "outputs": [
        {
          "output_type": "execute_result",
          "data": {
            "text/plain": [
              "((327,), (327,))"
            ]
          },
          "metadata": {},
          "execution_count": 201
        }
      ]
    },
    {
      "cell_type": "code",
      "source": [
        "len(model_pred), model_pred[:10]"
      ],
      "metadata": {
        "colab": {
          "base_uri": "https://localhost:8080/"
        },
        "id": "QgAHRbutBKdo",
        "outputId": "be8b681d-92cb-46c4-db81-7a28e44d8fca"
      },
      "execution_count": 202,
      "outputs": [
        {
          "output_type": "execute_result",
          "data": {
            "text/plain": [
              "(327, array([184.83405, 186.3782 , 190.29663, 190.2775 , 192.39493, 194.23016,\n",
              "        191.2185 , 192.62282, 191.3948 , 194.13354], dtype=float32))"
            ]
          },
          "metadata": {},
          "execution_count": 202
        }
      ]
    },
    {
      "cell_type": "code",
      "source": [
        "y_true = tf.cast(test_labels, dtype=tf.float32)\n",
        "y_pred = tf.cast(model_pred, dtype=tf.float32)\n",
        "\n",
        "mae = tf.keras.metrics.mean_absolute_error(y_true, y_pred)\n",
        "mse = tf.keras.metrics.mean_squared_error(y_true, y_pred)\n",
        "rmse = tf.sqrt(mse)\n",
        "mape = tf.keras.metrics.mean_absolute_percentage_error(y_true, y_pred)\n",
        "\n",
        "  \n",
        "print( {\"mae\": mae.numpy(),\n",
        "          \"mse\": mse.numpy(),\n",
        "          \"rmse\": rmse.numpy(),\n",
        "          \"mape\": mape.numpy()})"
      ],
      "metadata": {
        "colab": {
          "base_uri": "https://localhost:8080/"
        },
        "id": "aWmFkuDxGzVz",
        "outputId": "a05e1cf8-7e6b-46af-f2f7-8761e432818c"
      },
      "execution_count": 203,
      "outputs": [
        {
          "output_type": "stream",
          "name": "stdout",
          "text": [
            "{'mae': 5.7655764, 'mse': 60.56114, 'rmse': 7.7821035, 'mape': 2.4042113}\n"
          ]
        }
      ]
    },
    {
      "cell_type": "code",
      "source": [
        "timesteps=X_test[-len(test_windows):]\n",
        "\n",
        "plt.figure(figsize=(10, 7))\n",
        "plt.xlabel(\"Time\")\n",
        "plt.ylabel(\"Alibaba Price\")\n",
        "plt.grid(True)\n",
        "plt.plot(timesteps, test_labels, label=\"Test_data\")\n",
        "plt.plot(timesteps, model_pred,  label=\"model_pred\")\n",
        "plt.legend(fontsize=14);"
      ],
      "metadata": {
        "colab": {
          "base_uri": "https://localhost:8080/",
          "height": 442
        },
        "id": "r0wpp-o7_gh8",
        "outputId": "52a139c3-8881-44ef-bd65-6acb08b4abb1"
      },
      "execution_count": 204,
      "outputs": [
        {
          "output_type": "display_data",
          "data": {
            "text/plain": [
              "<Figure size 720x504 with 1 Axes>"
            ],
            "image/png": "[encoded data removed]"
          },
          "metadata": {
            "needs_background": "light"
          }
        }
      ]
    },
    {
      "cell_type": "code",
      "source": [],
      "metadata": {
        "id": "YOC6o5yVGdbz"
      },
      "execution_count": 204,
      "outputs": []
    }
  ]
}